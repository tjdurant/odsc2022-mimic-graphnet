{
 "cells": [
  {
   "cell_type": "code",
   "execution_count": null,
   "id": "c3863f3d-b511-452e-8b85-10c49ce79c5e",
   "metadata": {},
   "outputs": [],
   "source": [
    "%matplotlib inline\n",
    "from graphdatascience import GraphDataScience\n",
    "from neomodel import config\n",
    "import os\n",
    "import json\n",
    "from tqdm import tqdm\n",
    "import matplotlib.pyplot as plt\n",
    "from sklearn.manifold import TSNE\n",
    "import seaborn as sns\n",
    "import pandas as pd\n",
    "from src.models.simple_graph import *\n",
    "import numpy as np\n",
    "from mpl_toolkits.mplot3d import Axes3D\n",
    "\n",
    "\n",
    "# database = input(\"Database name: \")\n",
    "if os.path.exists(\"data/config.json\"):\n",
    "    with open(\"data/config.json\") as config_file:\n",
    "        config_data = json.loads(config_file.read())\n",
    "        if \"csv_path\" in config_data:\n",
    "            csv_path = config_data[\"csv_path\"]\n",
    "        if \"username\" in config_data:\n",
    "            username = config_data[\"username\"]\n",
    "        if \"password\" in config_data:\n",
    "            password = config_data[\"password\"]\n",
    "        if \"host\" in config_data:\n",
    "            host = config_data[\"host\"]\n",
    "        if \"database\" in config_data:\n",
    "            database = config_data[\"database\"]\n",
    "        if \"port\" in config_data:\n",
    "            port = config_data[\"port\"]\n",
    "\n",
    "config.DATABASE_URL = f\"bolt://{username}:{password}@{host}:{port}/{database}\""
   ]
  },
  {
   "cell_type": "code",
   "execution_count": null,
   "id": "f8e11fcf-8b43-4b50-9c42-4081afdf3e80",
   "metadata": {},
   "outputs": [],
   "source": [
    "X = []\n",
    "y = []\n",
    "\n",
    "with open(csv_path) as mimic_data:\n",
    "    num_lines = 0\n",
    "    for line in mimic_data:\n",
    "        num_lines += 1\n",
    "\n",
    "with open(csv_path) as mimic_data:\n",
    "    i = 0\n",
    "    for line in tqdm(mimic_data, total=num_lines, desc=\"Load data from input file...\"):\n",
    "        i += 1\n",
    "        entry = line.strip().replace('\"', \"\").split(\",\")\n",
    "\n",
    "        if i == 1:\n",
    "            continue\n",
    "\n",
    "        # Get visit ID and LOS label\n",
    "        visit_id = entry[0]\n",
    "        los_over = entry[5]\n",
    "\n",
    "        # Get visit node from Neo4j so we can get the embedding\n",
    "        visit = Visit.nodes.get(visit_id = visit_id)\n",
    "\n",
    "        # Add embedding and label to lists\n",
    "        X.append(visit.embedding)\n",
    "        y.append(los_over)"
   ]
  },
  {
   "cell_type": "code",
   "execution_count": null,
   "id": "0c3748db-03a4-4bfe-8511-5d55e1bacbd2",
   "metadata": {},
   "outputs": [],
   "source": [
    "tsne = None\n",
    "tsne_results = None\n",
    "\n",
    "tsne = TSNE(n_components=2, verbose=1, perplexity=100, n_iter=1000, learning_rate=\"auto\", init=\"pca\")\n",
    "tsne_results = tsne.fit_transform(np.array(X))\n",
    "\n",
    "df_subset = pd.DataFrame()\n",
    "df_subset['tsne-2d-one'] = tsne_results[:,0]\n",
    "df_subset['tsne-2d-two'] = tsne_results[:,1]\n",
    "df_subset['los6'] = y"
   ]
  },
  {
   "cell_type": "code",
   "execution_count": null,
   "id": "df623c11-a42f-47c6-a97f-c40407891ee3",
   "metadata": {},
   "outputs": [],
   "source": [
    "plt.figure(figsize=(16,10))\n",
    "sns.scatterplot(\n",
    "    x=\"tsne-2d-one\", y=\"tsne-2d-two\",\n",
    "    hue=\"los6\",\n",
    "    palette=sns.color_palette(\"hls\", 2),\n",
    "    data=df_subset,\n",
    "    legend=\"full\",\n",
    "    alpha=0.3\n",
    ")"
   ]
  },
  {
   "cell_type": "code",
   "execution_count": null,
   "id": "a989ada0-3492-4c36-9e8a-cf381cf4f0ba",
   "metadata": {},
   "outputs": [],
   "source": []
  }
 ],
 "metadata": {
  "kernelspec": {
   "display_name": "Python 3 (ipykernel)",
   "language": "python",
   "name": "python3"
  },
  "language_info": {
   "codemirror_mode": {
    "name": "ipython",
    "version": 3
   },
   "file_extension": ".py",
   "mimetype": "text/x-python",
   "name": "python",
   "nbconvert_exporter": "python",
   "pygments_lexer": "ipython3",
   "version": "3.10.4"
  },
  "vscode": {
   "interpreter": {
    "hash": "896861f76b1430d19cd707095a55d7cde2bfdb5ace02927f9df9af2618b0988f"
   }
  }
 },
 "nbformat": 4,
 "nbformat_minor": 5
}
